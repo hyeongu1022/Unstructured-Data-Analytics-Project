{
  "nbformat": 4,
  "nbformat_minor": 0,
  "metadata": {
    "kernelspec": {
      "display_name": "Python 3",
      "language": "python",
      "name": "python3"
    },
    "language_info": {
      "codemirror_mode": {
        "name": "ipython",
        "version": 3
      },
      "file_extension": ".py",
      "mimetype": "text/x-python",
      "name": "python",
      "nbconvert_exporter": "python",
      "pygments_lexer": "ipython3",
      "version": "3.6.6"
    },
    "colab": {
      "name": "PwC_Sentiment_and_cosine_similarity.ipynb",
      "provenance": [],
      "collapsed_sections": []
    }
  },
  "cells": [
    {
      "cell_type": "code",
      "metadata": {
        "colab": {
          "base_uri": "https://localhost:8080/"
        },
        "id": "KFVJS8vPOZn6",
        "outputId": "b4804570-e18a-45ed-a2f0-122869cd69e4"
      },
      "source": [
        "import pandas as pd\n",
        "import re,string\n",
        "from nltk.corpus import stopwords\n",
        "from nltk.probability import FreqDist\n",
        "from nltk.stem import WordNetLemmatizer\n",
        "from nltk.corpus import wordnet\n",
        "from nltk.tokenize import sent_tokenize, word_tokenize\n",
        "import matplotlib.pyplot as plt\n",
        "import warnings\n",
        "%pylab inline\n",
        "import numpy as np\n",
        "\n",
        "!pip install -q wordcloud\n",
        "import wordcloud\n",
        "\n",
        "import nltk\n",
        "nltk.download('stopwords')\n",
        "nltk.download('wordnet')\n",
        "nltk.download('punkt')\n",
        "nltk.download('averaged_perceptron_tagger') \n",
        "\n",
        "import io\n",
        "import unicodedata\n",
        "from sklearn.feature_extraction.text import TfidfVectorizer"
      ],
      "execution_count": null,
      "outputs": [
        {
          "output_type": "stream",
          "name": "stdout",
          "text": [
            "Populating the interactive namespace from numpy and matplotlib\n",
            "[nltk_data] Downloading package stopwords to /root/nltk_data...\n",
            "[nltk_data]   Unzipping corpora/stopwords.zip.\n",
            "[nltk_data] Downloading package wordnet to /root/nltk_data...\n",
            "[nltk_data]   Unzipping corpora/wordnet.zip.\n",
            "[nltk_data] Downloading package punkt to /root/nltk_data...\n",
            "[nltk_data]   Unzipping tokenizers/punkt.zip.\n",
            "[nltk_data] Downloading package averaged_perceptron_tagger to\n",
            "[nltk_data]     /root/nltk_data...\n",
            "[nltk_data]   Unzipping taggers/averaged_perceptron_tagger.zip.\n"
          ]
        }
      ]
    },
    {
      "cell_type": "markdown",
      "metadata": {
        "id": "8DH4EYjGOZn7"
      },
      "source": [
        "# Value Similarity"
      ]
    },
    {
      "cell_type": "code",
      "metadata": {
        "id": "5VKb5Qu9OZn8",
        "colab": {
          "base_uri": "https://localhost:8080/",
          "height": 340
        },
        "outputId": "ee6173aa-7910-4aa3-ce2a-847fc5672751"
      },
      "source": [
        "pwc_df= pd.read_csv('PwC_Review.csv', encoding= \"iso-8859-1\")\n",
        "pwc_df.head()"
      ],
      "execution_count": null,
      "outputs": [
        {
          "output_type": "execute_result",
          "data": {
            "text/html": [
              "<div>\n",
              "<style scoped>\n",
              "    .dataframe tbody tr th:only-of-type {\n",
              "        vertical-align: middle;\n",
              "    }\n",
              "\n",
              "    .dataframe tbody tr th {\n",
              "        vertical-align: top;\n",
              "    }\n",
              "\n",
              "    .dataframe thead th {\n",
              "        text-align: right;\n",
              "    }\n",
              "</style>\n",
              "<table border=\"1\" class=\"dataframe\">\n",
              "  <thead>\n",
              "    <tr style=\"text-align: right;\">\n",
              "      <th></th>\n",
              "      <th>ï»¿Title</th>\n",
              "      <th>Date Written</th>\n",
              "      <th>Rating</th>\n",
              "      <th>Current/Former</th>\n",
              "      <th>Job Title</th>\n",
              "      <th>Location</th>\n",
              "      <th>Recommendation?</th>\n",
              "      <th>Outlook</th>\n",
              "      <th>Main Text</th>\n",
              "      <th>Pros</th>\n",
              "      <th>Cons</th>\n",
              "    </tr>\n",
              "  </thead>\n",
              "  <tbody>\n",
              "    <tr>\n",
              "      <th>0</th>\n",
              "      <td>Amazing place to grow and develop</td>\n",
              "      <td>Sep 26, 2021</td>\n",
              "      <td>5.0</td>\n",
              "      <td>Former</td>\n",
              "      <td>Senior Management Consultant</td>\n",
              "      <td>NaN</td>\n",
              "      <td>Recommend</td>\n",
              "      <td>Business Outlook</td>\n",
              "      <td>Share</td>\n",
              "      <td>Focused a lot of early career development. Ama...</td>\n",
              "      <td>Long hours, but honestly, not deal-breaking.</td>\n",
              "    </tr>\n",
              "    <tr>\n",
              "      <th>1</th>\n",
              "      <td>It's luck of the draw</td>\n",
              "      <td>Sep 27, 2021</td>\n",
              "      <td>3.0</td>\n",
              "      <td>Current</td>\n",
              "      <td>International Tax Associate</td>\n",
              "      <td>NaN</td>\n",
              "      <td>Recommend</td>\n",
              "      <td>Business Outlook</td>\n",
              "      <td>Share</td>\n",
              "      <td>The people, you will gain a ton of experience ...</td>\n",
              "      <td>Although the hours are flexible they are still...</td>\n",
              "    </tr>\n",
              "    <tr>\n",
              "      <th>2</th>\n",
              "      <td>Lots of politics</td>\n",
              "      <td>Sep 28, 2021</td>\n",
              "      <td>4.0</td>\n",
              "      <td>Former</td>\n",
              "      <td>SAP Consultant</td>\n",
              "      <td>NaN</td>\n",
              "      <td>Recommend</td>\n",
              "      <td>Business Outlook</td>\n",
              "      <td>Share</td>\n",
              "      <td>Opportunity to work with lots of bright talent...</td>\n",
              "      <td>Very negative experience with a manager with z...</td>\n",
              "    </tr>\n",
              "    <tr>\n",
              "      <th>3</th>\n",
              "      <td>Its a massive ship</td>\n",
              "      <td>Sep 30, 2021</td>\n",
              "      <td>3.0</td>\n",
              "      <td>Former</td>\n",
              "      <td>International Tax Associate</td>\n",
              "      <td>NaN</td>\n",
              "      <td>Recommend</td>\n",
              "      <td>Business Outlook</td>\n",
              "      <td>Share</td>\n",
              "      <td>They are trying to change culture, and you can...</td>\n",
              "      <td>They are still a business and you are replacea...</td>\n",
              "    </tr>\n",
              "    <tr>\n",
              "      <th>4</th>\n",
              "      <td>PwC life</td>\n",
              "      <td>Sep 21, 2021</td>\n",
              "      <td>4.0</td>\n",
              "      <td>Current</td>\n",
              "      <td>Risk and Regulatory Advisory Senior Associate</td>\n",
              "      <td>NaN</td>\n",
              "      <td>Recommend</td>\n",
              "      <td>Business Outlook</td>\n",
              "      <td>Share</td>\n",
              "      <td>Good pay and benefits Career opportunities are...</td>\n",
              "      <td>You work a lot. The firm preaches work life ba...</td>\n",
              "    </tr>\n",
              "  </tbody>\n",
              "</table>\n",
              "</div>"
            ],
            "text/plain": [
              "                            ï»¿Title  ...                                               Cons\n",
              "0  Amazing place to grow and develop  ...       Long hours, but honestly, not deal-breaking.\n",
              "1              It's luck of the draw  ...  Although the hours are flexible they are still...\n",
              "2                   Lots of politics  ...  Very negative experience with a manager with z...\n",
              "3                 Its a massive ship  ...  They are still a business and you are replacea...\n",
              "4                           PwC life  ...  You work a lot. The firm preaches work life ba...\n",
              "\n",
              "[5 rows x 11 columns]"
            ]
          },
          "metadata": {},
          "execution_count": 40
        }
      ]
    },
    {
      "cell_type": "markdown",
      "metadata": {
        "id": "xXOybBhwOZn8"
      },
      "source": [
        "https://www.linkedin.com/pulse/brilliant-examples-company-values-amazon-google-microsoft-j-d-meier/"
      ]
    },
    {
      "cell_type": "code",
      "metadata": {
        "id": "qSdj3W8tMh25"
      },
      "source": [
        "### PwC Values and Behaviors:\n",
        "pwc_values = \"\"\"1) Act with integrity\n",
        "Speak up for what is right, especially when it feels difficult\n",
        "Expect and deliver the highest quality outcomes\n",
        "Make decisions and act as if our personal reputations were at stake\n",
        "\n",
        "\n",
        "2) Make a difference\n",
        "Stay informed and ask questions about the future of the world we live in \n",
        "Create impact with our colleagues, our clients and society through our actions\n",
        "Respond with agility to the ever changing environment in which we operate\n",
        "\n",
        "3) Working at Google is fun\n",
        "We expect our people to know and enjoy each other\n",
        "We have a challenging/energetic work environment\n",
        "We celebrate our successes and each other’s accomplishments – both professional and personal\n",
        "\n",
        "4) Care\n",
        "Make the effort to understand every individual and what matters to them\n",
        "Recognise the value that each person contributes\n",
        "Support others to grow and work in the ways that bring out their best\n",
        "\n",
        "5) Work together\n",
        "Collaborate and share relationships, ideas and knowledge beyond boundaries\n",
        "Seek and integrate a diverse range of perspectives, people andideas\n",
        "Give and ask for feedback to improve ourselves andothers\n",
        "\n",
        "6) Reimagine the possible\n",
        "Dare to challenge the status quo and try newthings\n",
        "Innovate, test and learn from failure\n",
        "Have an open mind to the possibilities in every idea\"\"\""
      ],
      "execution_count": null,
      "outputs": []
    },
    {
      "cell_type": "markdown",
      "metadata": {
        "id": "1FMqJJIaHWBD"
      },
      "source": [
        "### What is Stemming?\n",
        "* The idea of stemming is a sort of normalizing method. Many variations of words carry the same meaning, other than when tense is involved.\n",
        "* Imagine every word in the English language, every possible tense and affix you can put on a word. Having individual dictionary entries per version would be highly redundant and inefficient.\n",
        "* e.g. \n",
        "[\"python\", \"pythoner\", \"pythoning\", \"pythoned\", \"pythonly\"] -> Stemming -> [python, python, python, python, pythonli]"
      ]
    },
    {
      "cell_type": "code",
      "metadata": {
        "id": "55PzdJG3OZn_"
      },
      "source": [
        "# Cosine Similarity\n",
        "stemmer = nltk.stem.porter.PorterStemmer()\n",
        "# In Python3, string.punctuation is a pre-initialized string used as string constant. \\\n",
        "# In Python, string.punctuation will give the all sets of punctuation.\n",
        "remove_punctuation_map = dict((ord(char), None) for char in string.punctuation)\n",
        "\n",
        "def stem_tokens(tokens):\n",
        "    return [stemmer.stem(item) for item in tokens]\n",
        "\n",
        "'''remove punctuation, lowercase, stem'''\n",
        "def normalize(text):\n",
        "    return stem_tokens(nltk.word_tokenize(text.lower().translate(remove_punctuation_map)))\n",
        "\n",
        "    vectorizer = TfidfVectorizer(tokenizer=normalize, stop_words='english')\n",
        "\n",
        "def cosine_sim(text1, text2):\n",
        "    # TfidfVectorizer converts a collection of raw documents to a matrix of TF-IDF features. \n",
        "    tfidf = vectorizer.fit_transform([text1, text2])\n",
        "    return ((tfidf * tfidf.T).A)[0,1]\n",
        "\n",
        "def cosine_pros_cons(df, value_list):\n",
        "    df.columns = ['title', 'date_written', 'rating', 'current_former', 'job_title',\n",
        "       'location', 'recommendation', 'outlook', 'main_text', 'pros', 'cons'] # removed \"advise_to_management\" bc our df doesn't have the column.\n",
        "    df.pros = df.pros.astype(str)\n",
        "    df.cons = df.cons.astype(str)\n",
        "\n",
        "    pros = df.pros.sum()\n",
        "    cons = df.cons.sum()\n",
        "\n",
        "    for value in value_list:\n",
        "        print(value)\n",
        "        print(\"Similarity with pros:\",cosine_sim(pros,value))\n",
        "        print(\"Similarity with cons:\",cosine_sim(cons,value))\n",
        "        print()"
      ],
      "execution_count": null,
      "outputs": []
    },
    {
      "cell_type": "code",
      "metadata": {
        "id": "GykTgObZOZoA",
        "colab": {
          "base_uri": "https://localhost:8080/"
        },
        "outputId": "357925c5-1196-45ac-d2d2-0f375905e881"
      },
      "source": [
        "cosine_pros_cons(pwc_df,pwc_values.split('\\n\\n'))"
      ],
      "execution_count": null,
      "outputs": [
        {
          "output_type": "stream",
          "name": "stdout",
          "text": [
            "1) Act with integrity\n",
            "Speak up for what is right, especially when it feels difficult\n",
            "Expect and deliver the highest quality outcomes\n",
            "Make decisions and act as if our personal reputations were at stake\n",
            "Similarity with pros: 0.019152306148218664\n",
            "Similarity with cons: 0.0427519372716153\n",
            "\n",
            "\n",
            "2) Make a difference\n",
            "Stay informed and ask questions about the future of the world we live in \n",
            "Create impact with our colleagues, our clients and society through our actions\n",
            "Respond with agility to the ever changing environment in which we operate\n",
            "Similarity with pros: 0.05529651281584707\n",
            "Similarity with cons: 0.036435171079318804\n",
            "\n",
            "3) Working at Google is fun\n",
            "We expect our people to know and enjoy each other\n",
            "We have a challenging/energetic work environment\n",
            "We celebrate our successes and each other’s accomplishments – both professional and personal\n",
            "Similarity with pros: 0.23325062545409045\n",
            "Similarity with cons: 0.20169606685296104\n",
            "\n",
            "4) Care\n",
            "Make the effort to understand every individual and what matters to them\n",
            "Recognise the value that each person contributes\n",
            "Support others to grow and work in the ways that bring out their best\n",
            "Similarity with pros: 0.14252998250392881\n",
            "Similarity with cons: 0.14220589418111557\n",
            "\n",
            "5) Work together\n",
            "Collaborate and share relationships, ideas and knowledge beyond boundaries\n",
            "Seek and integrate a diverse range of perspectives, people andideas\n",
            "Give and ask for feedback to improve ourselves andothers\n",
            "Similarity with pros: 0.14714389701276753\n",
            "Similarity with cons: 0.10347177081060781\n",
            "\n",
            "6) Reimagine the possible\n",
            "Dare to challenge the status quo and try newthings\n",
            "Innovate, test and learn from failure\n",
            "Have an open mind to the possibilities in every idea\n",
            "Similarity with pros: 0.05183365751839882\n",
            "Similarity with cons: 0.012918391420267867\n",
            "\n"
          ]
        }
      ]
    },
    {
      "cell_type": "markdown",
      "metadata": {
        "id": "H0yYmTNKOZoA"
      },
      "source": [
        "# Sentiment"
      ]
    },
    {
      "cell_type": "code",
      "metadata": {
        "id": "LzO84zgqOZoA"
      },
      "source": [
        "fig_size = plt.rcParams[\"figure.figsize\"]\n",
        "\n",
        "#Set figure width to 12 and height to 9\n",
        "fig_size[0] = 12\n",
        "fig_size[1] = 9\n",
        "plt.rcParams[\"figure.figsize\"] = fig_size"
      ],
      "execution_count": null,
      "outputs": []
    },
    {
      "cell_type": "markdown",
      "metadata": {
        "id": "36GjENpPSQ6x"
      },
      "source": [
        "### VADER\n",
        "VADER is a lexicon and rule-based feeling analysis instrument that is explicitly sensitive to suppositions communicated in web-based media. VADER utilizes a mix of lexical highlights (e.g., words) that are, for the most part, marked by their semantic direction as one or the other positive or negative. Thus, VADER not only tells about the Polarity score yet, in addition, it tells us concerning how positive or negative a conclusion is.\n",
        "\n",
        "* The VADER library returns 4 values such as:\n",
        "  * pos: The probability of the sentiment to be positive\n",
        "  * neu: The probability of the sentiment to be neutral\n",
        "  * neg: The probability of the sentiment to be negative\n",
        "  * compound: The normalized compound score which calculates the sum of all \n",
        "  \n",
        "* lexicon ratings and takes values from -1 to 1\n",
        "* Notice that the pos, neu and neg probabilities add up to 1. Also, the compound score is a very useful metric in case we want a single measure of sentiment. Typical threshold values are the following:\n",
        "\n",
        "  * positive: compound score>=0.05\n",
        "  * neutral: compound score between -0.05 and 0.05\n",
        "  * negative: compound score<=-0.05"
      ]
    },
    {
      "cell_type": "code",
      "metadata": {
        "id": "nzbrA7WDOZoB"
      },
      "source": [
        "# !pip install vaderSentiment\n",
        "from vaderSentiment.vaderSentiment import SentimentIntensityAnalyzer\n",
        "from datetime import datetime\n",
        "import copy\n",
        "analyser = SentimentIntensityAnalyzer()\n",
        "\n",
        "def get_sentiment_scores(sentence):\n",
        "    snt = analyser.polarity_scores(sentence) # outputs sentiment scores (e.g. {'neg': 0.0, 'neu': 0.432, 'pos': 0.568, 'compound': 0.8476})\n",
        "    return(snt['compound']) #return only compound score\n",
        "\n",
        "def get_pos_neg(sentence):\n",
        "    snt = analyser.polarity_scores(sentence)\n",
        "    if(snt['pos'] > snt['neg']):\n",
        "        return('pos')\n",
        "    return('neg')\n",
        "\n",
        "def sentiment_analysis(dfx):\n",
        "    df = copy.deepcopy(dfx)\n",
        "    df.columns = ['title', 'date_written', 'rating', 'current_former', 'job_title',\n",
        "       'location', 'recommendation', 'outlook', 'main_text', 'pros', 'cons'] # removed \"advice_to_management\" bc our df doesn't have that column\n",
        "\n",
        "    df.pros = df.pros.astype(str)\n",
        "    df.cons = df.cons.astype(str)\n",
        "    \n",
        "    df['pc'] = df.pros + ' ' + df.cons\n",
        "    \n",
        "    df['sent_score'] = df.pc.map(get_sentiment_scores) #sentiment score == compound score\n",
        "    df['pos_neg'] = df.pc.map(get_pos_neg) # get whether it is +ve or -ve \n",
        "    \n",
        "    df['date'] = pd.to_datetime(df['date_written'], errors = 'coerce')\n",
        "    df.set_index('date', inplace=True)\n",
        "    df2 = df[['sent_score']].resample(\"M\").mean() # resample the datetime data in minute bins\n",
        "    y_mean = np.repeat(df['sent_score'].mean(), df2.shape[0]) # repeat mean of sentiment score by number of df2 rows\n",
        "    # Plot the data\n",
        "    plot(df2.index, y_mean, label='Mean', linestyle='--', color = 'k')\n",
        "    plot(df2.index, df2['sent_score'], label=\"Sentiment Score\") \n",
        "    plt.xlabel(\"Dates\")\n",
        "    plt.ylabel(\"Sentiment Score Mean\")\n",
        "    legend()\n",
        "    # option_context: context manager is used to set the option in with statement temporarily.\n",
        "    # Option values are restored automatically when you exit the with block\n",
        "    with pd.option_context('display.max_rows', None, 'display.max_columns', None): # temporarily set variables 'display.max_rows' and 'display.max_columns' as None\n",
        "        print(\"Average sentiment score:\",df['sent_score'].mean())\n",
        "        print(\"--------------------------------------------------\")\n",
        "        print(df.groupby('current_former')[['sent_score']].mean())\n",
        "        print(\"--------------------------------------------------\")\n",
        "        print(df.groupby('outlook')[['sent_score']].mean())\n",
        "        print(\"--------------------------------------------------\")\n",
        "        print(df.groupby('recommendation')[['sent_score']].mean())\n",
        "        print(\"--------------------------------------------------\")\n",
        "        print(df.job_title.value_counts()[:20])\n",
        "        print(\"--------------------------------------------------\")\n",
        "        top_designations = df.job_title.value_counts().index[:20]\n",
        "        print(df[df.job_title.isin(top_designations)].groupby('job_title')['sent_score'].mean().nlargest(20)) # .nlargest(): Returns the first n rows ordered by columns in descending order\n",
        "        print(\"--------------------------------------------------\")\n",
        "        print(\"Top 10 Locations: {}\".format(df['location'].value_counts()[:10]))\n",
        "        top_locations = df.location.value_counts().index[:10]\n",
        "        print(df[df.location.isin(top_locations)].groupby('location')['sent_score'].mean().nlargest(10))\n",
        "        print(df[df.location.isin(top_locations) & df.job_title.isin(top_designations)].pivot_table(index='location', columns='job_title', values='sent_score',aggfunc='mean'))\n",
        "        #print(df[df.location.isin(top_locations) & df.job_title.isin(top_designations) ].groupby(['location','job_title'])[['sent_score']].mean())"
      ],
      "execution_count": null,
      "outputs": []
    },
    {
      "cell_type": "code",
      "metadata": {
        "id": "MH6R2I2FOZoB",
        "colab": {
          "base_uri": "https://localhost:8080/",
          "height": 1000
        },
        "outputId": "5d860c04-5434-4157-a285-d6804dbffa52"
      },
      "source": [
        "sentiment_analysis(pwc_df)"
      ],
      "execution_count": null,
      "outputs": [
        {
          "output_type": "stream",
          "name": "stdout",
          "text": [
            "Average sentiment score: 0.5033832663316588\n",
            "--------------------------------------------------\n",
            "                sent_score\n",
            "current_former            \n",
            "Current           0.512983\n",
            "Former            0.477542\n",
            "--------------------------------------------------\n",
            "                  sent_score\n",
            "outlook                     \n",
            "Business Outlook    0.503383\n",
            "--------------------------------------------------\n",
            "                sent_score\n",
            "recommendation            \n",
            "Recommend         0.503383\n",
            "--------------------------------------------------\n",
            " Senior Associate               240\n",
            " Associate                      182\n",
            " Anonymous Employee             121\n",
            " Manager                        111\n",
            " Assurance Associate            101\n",
            " Director                        73\n",
            " Tax Associate                   66\n",
            " Senior Manager                  65\n",
            " Audit Associate                 38\n",
            " Consultant                      31\n",
            " Audit Senior Associate          28\n",
            " Experienced Associate           25\n",
            " Senior Consultant               23\n",
            " Experienced Audit Associate     22\n",
            " Tax Manager                     22\n",
            " Auditor                         18\n",
            " Senior Tax Associate            17\n",
            " Tax Senior Associate            15\n",
            " Senior Associate                15\n",
            " Accountant                      15\n",
            "Name: job_title, dtype: int64\n",
            "--------------------------------------------------\n",
            "job_title\n",
            " Senior Associate               0.650840\n",
            " Tax Senior Associate           0.580567\n",
            " Senior Manager                 0.563826\n",
            " Manager                        0.553312\n",
            " Senior Tax Associate           0.539588\n",
            " Consultant                     0.527610\n",
            " Experienced Audit Associate    0.513582\n",
            " Director                       0.504973\n",
            " Tax Associate                  0.489732\n",
            " Senior Associate               0.482979\n",
            " Audit Senior Associate         0.476968\n",
            " Associate                      0.475264\n",
            " Anonymous Employee             0.459650\n",
            " Accountant                     0.459553\n",
            " Auditor                        0.435967\n",
            " Audit Associate                0.424400\n",
            " Assurance Associate            0.397964\n",
            " Experienced Associate          0.381972\n",
            " Senior Consultant              0.376870\n",
            " Tax Manager                    0.351582\n",
            "Name: sent_score, dtype: float64\n",
            "--------------------------------------------------\n",
            "Top 10 Locations: Series([], Name: location, dtype: int64)\n",
            "Series([], Name: sent_score, dtype: float64)\n",
            "Empty DataFrame\n",
            "Columns: []\n",
            "Index: []\n"
          ]
        },
        {
          "output_type": "display_data",
          "data": {
            "image/png": "[encoded data removed]",
            "text/plain": [
              "<Figure size 864x648 with 1 Axes>"
            ]
          },
          "metadata": {
            "needs_background": "light"
          }
        }
      ]
    },
    {
      "cell_type": "code",
      "metadata": {
        "id": "YMTDFVyEV8l4"
      },
      "source": [
        ""
      ],
      "execution_count": null,
      "outputs": []
    }
  ]
}